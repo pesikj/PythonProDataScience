{
 "cells": [
  {
   "cell_type": "markdown",
   "metadata": {},
   "source": [
    "<img src=\"img/Group-2cc.png\">"
   ]
  },
  {
   "cell_type": "markdown",
   "metadata": {},
   "source": [
    "# Cvičení: A/B testování s hrou Cookie Cats\n",
    "\n",
    "**Cíl:** Provést A/B testování pro zjištění, jak změna v herním designu ovlivňuje míru retence hráčů ve hře Cookie Cats po 7 dnech od instalace.\n",
    "\n",
    "**Dataset:** \"Mobile Games A/B Testing - Cookie Cats\", který obsahuje data o hráčích, včetně toho, do které skupiny (A nebo B) byli přiřazeni a zda hráči zůstali ve hře po určité herní události.\n",
    "\n",
    "- **userid**: Unikátní identifikátor hráče.\n",
    "- **version**: Skupina A/B testu, kde 'gate_30' a 'gate_40' značí různé herní nastavení.\n",
    "- **sum_gamerounds**: Celkový počet kol, které hráč odehrál během prvního týdne po instalaci.\n",
    "- **retention_1**: Indikátor, zda se hráč vrátil hrát hru 1 den po instalaci (True/False).\n",
    "- **retention_7**: Indikátor, zda se hráč vrátil hrát hru 7 dní po instalaci (True/False).\n",
    "\n",
    "[Download data](https://www.kaggle.com/datasets/mursideyarkin/mobile-games-ab-testing-cookie-cats/data)\n"
   ]
  },
  {
   "cell_type": "code",
   "execution_count": 9,
   "metadata": {},
   "outputs": [],
   "source": [
    "import pandas as pd\n",
    "from scipy.stats import ttest_ind\n",
    "import matplotlib.pyplot as plt\n",
    "import seaborn as sns\n",
    "from statsmodels.stats.power import TTestIndPower\n"
   ]
  },
  {
   "cell_type": "markdown",
   "metadata": {},
   "source": [
    "### Krok 1: Příprava dat\n",
    "1. **Načtení dat:** Použijte Python a knihovnu pandas k načtení datasetu `cookie_cats.csv`.\n",
    "2. **Prozkoumání dat:** Použijte funkce `head()`, `info()`, a `describe()` k získání přehledu o datových typech a možných chybějících hodnotách.\n",
    "3. **Čištění dat:** Zkontrolujte data na případné duplicity nebo chybějící hodnoty a vyřešte tyto problémy.\n"
   ]
  },
  {
   "cell_type": "code",
   "execution_count": 10,
   "metadata": {},
   "outputs": [
    {
     "name": "stdout",
     "output_type": "stream",
     "text": [
      "   userid  version  sum_gamerounds  retention_1  retention_7\n",
      "0     116  gate_30               3        False        False\n",
      "1     337  gate_30              38         True        False\n",
      "2     377  gate_40             165         True        False\n",
      "3     483  gate_40               1        False        False\n",
      "4     488  gate_40             179         True         True\n",
      "Chybějící hodnoty:\n",
      "userid            0\n",
      "version           0\n",
      "sum_gamerounds    0\n",
      "retention_1       0\n",
      "retention_7       0\n",
      "dtype: int64\n",
      "Počet duplikátů: 0\n"
     ]
    }
   ],
   "source": [
    "# Načtení dat\n",
    "data = pd.read_csv(\"cookie_cats.csv\")\n",
    "\n",
    "# Prozkoumání dat\n",
    "print(data.head())\n",
    "# print(data.info())\n",
    "# print(data.describe())\n",
    "\n",
    "# Pro zajištění integrity dat zkontrolujeme dataset na případné duplicity a chybějící hodnoty.\n",
    "\n",
    "# Kontrola chybějících hodnot\n",
    "missing_data = data.isnull().sum()\n",
    "print(\"Chybějící hodnoty:\")\n",
    "print(missing_data)\n",
    "\n",
    "# Kontrola duplikátů\n",
    "duplicates = data.duplicated().sum()\n",
    "print(\"Počet duplikátů:\", duplicates)"
   ]
  },
  {
   "cell_type": "markdown",
   "metadata": {},
   "source": [
    "\n",
    "### Krok 2: Rozdělení dat\n",
    "1. **Ověření skupin:** Ujistěte se, že data obsahují jasně rozlišené skupiny A a B a že každý záznam je přiřazen jen do jedné skupiny.\n",
    "2. **Rovnováha mezi skupinami:** Zkontrolujte, zda je počet hráčů v obou skupinách vyvážený.\n"
   ]
  },
  {
   "cell_type": "code",
   "execution_count": 11,
   "metadata": {},
   "outputs": [],
   "source": [
    "# Rozdělíme data podle skupiny testu ('gate_30' a 'gate_40') a spočítáme míru retence po 1 dni pro každou skupinu.\n",
    "\n",
    "# Vytvoření skupin pro A/B testování\n",
    "group_30 = data[data[\"version\"] == \"gate_30\"]\n",
    "group_40 = data[data[\"version\"] == \"gate_40\"]"
   ]
  },
  {
   "cell_type": "markdown",
   "metadata": {},
   "source": [
    "\n",
    "### Krok 3: Statistická analýza\n",
    "1. **Stanovení hypotéz:**\n",
    "   - **H0 (nulová hypotéza):** Neexistuje žádný rozdíl v míře retence mezi skupinou A a B.\n",
    "   - **H1 (alternativní hypotéza):** Existuje statisticky významný rozdíl v míře retence mezi skupinou A a B.\n",
    "2. **Výpočet míry retence:** Pro každou skupinu vypočítejte míru retence jako poměr počtu hráčů, kteří zůstali ve hře, ku celkovému počtu hráčů ve skupině.\n",
    "3. **Provedení A/B testu:** Použijte z-test nebo t-test k porovnání míry retence mezi oběma skupinami.\n"
   ]
  },
  {
   "cell_type": "code",
   "execution_count": 12,
   "metadata": {},
   "outputs": [
    {
     "name": "stdout",
     "output_type": "stream",
     "text": [
      "Míra retence skupiny Gate 30 (1 den): 0.19020134228187918\n",
      "Míra retence skupiny Gate 40 (1 den): 0.18200004396667327\n"
     ]
    }
   ],
   "source": [
    "# Výpočet míry retence pro obě skupiny\n",
    "retention_rate_30 = group_30[\"retention_7\"].mean()\n",
    "retention_rate_40 = group_40[\"retention_7\"].mean()\n",
    "print(\"Míra retence skupiny Gate 30 (1 den):\", retention_rate_30)\n",
    "print(\"Míra retence skupiny Gate 40 (1 den):\", retention_rate_40)"
   ]
  },
  {
   "cell_type": "code",
   "execution_count": 13,
   "metadata": {},
   "outputs": [
    {
     "name": "stdout",
     "output_type": "stream",
     "text": [
      "t-statistika: 3.164028946774232\n",
      "p-hodnota: 0.0015565301810066526\n"
     ]
    }
   ],
   "source": [
    "# Porovnáme míry retence mezi oběma skupinami pomocí t-testu, aby zjistíme, jestli jsou rozdíly statisticky významné.\n",
    "# Na základě p-hodnoty určíme, zda jsou rozdíly v retenci mezi oběma skupinami statisticky významné.\n",
    "# Pokud je p-hodnota menší než 0.05, zamítneme nulovou hypotézu o absence rozdílů ve retenci mezi skupinami.\n",
    "\n",
    "# Statistický t-test\n",
    "t_stat, p_value = ttest_ind(\n",
    "    group_30[\"retention_7\"], group_40[\"retention_7\"], equal_var=False\n",
    ")\n",
    "print(\"t-statistika:\", t_stat)\n",
    "print(\"p-hodnota:\", p_value)"
   ]
  },
  {
   "cell_type": "markdown",
   "metadata": {},
   "source": [
    "\n",
    "### Krok 4: Interpretace výsledků\n",
    "1. **Vyhodnocení p-hodnoty a statistické významnosti:** Na základě výsledků testu určete, zda zamítnout nulovou hypotézu."
   ]
  },
  {
   "cell_type": "code",
   "execution_count": 14,
   "metadata": {},
   "outputs": [
    {
     "name": "stdout",
     "output_type": "stream",
     "text": [
      "Zamítáme nulovou hypotézu: Existuje statisticky významný rozdíl v míře retence mezi skupinami.\n"
     ]
    }
   ],
   "source": [
    "# Interpretace výsledků\n",
    "if p_value < 0.05:\n",
    "    print(\n",
    "        \"Zamítáme nulovou hypotézu: Existuje statisticky významný rozdíl v míře retence mezi skupinami.\"\n",
    "    )\n",
    "else:\n",
    "    print(\n",
    "        \"Nemáme dostatečný důkaz pro zamítnutí nulové hypotézy: Neexistuje statisticky významný rozdíl v míře retence mezi skupinami.\"\n",
    "    )"
   ]
  },
  {
   "cell_type": "markdown",
   "metadata": {},
   "source": [
    "\n",
    "### Krok 5: Vizualizace a závěry\n",
    "1. **Vizualizace výsledků:** Použijte knihovny jako matplotlib nebo seaborn k vizualizaci míry retence ve skupinách A a B.\n",
    "2. **Závěry a doporučení:** Formulujte závěry a navrhněte, jak by se dalo na základě výsledků A/B testu postupovat.\n"
   ]
  },
  {
   "cell_type": "code",
   "execution_count": 15,
   "metadata": {},
   "outputs": [
    {
     "data": {
      "text/plain": [
       "<matplotlib.legend.Legend at 0x1721df9b0>"
      ]
     },
     "execution_count": 15,
     "metadata": {},
     "output_type": "execute_result"
    },
    {
     "data": {
      "image/png": "[encoded data removed]",
      "text/plain": [
       "<Figure size 1000x600 with 1 Axes>"
      ]
     },
     "metadata": {},
     "output_type": "display_data"
    }
   ],
   "source": [
    "# Vizualizace míry retence pomocí KDE plot\n",
    "plt.figure(figsize=(10, 6))\n",
    "sns.kdeplot(group_30[\"retention_7\"], label=\"Gate 30\", fill=True)\n",
    "sns.kdeplot(group_40[\"retention_7\"], label=\"Gate 40\", fill=True)\n",
    "plt.title(\"Rozdělení míry retence po 7 dnech\")\n",
    "plt.xlabel(\"Retence (1 = zůstal, 0 = nezůstal)\")\n",
    "plt.ylabel(\"Hustota\")\n",
    "plt.legend()"
   ]
  },
  {
   "cell_type": "markdown",
   "metadata": {},
   "source": [
    "\n",
    "### Bonusový úkol\n",
    "1. **Výpočet síly testu (Statistical Power):** Určete, zda byla velikost vzorku dostatečná k odhalení skutečného efektu, pokud existuje.\n",
    "2. **Reflexe metodologie:** Navrhněte možná vylepšení pro budoucí A/B testy na základě této zkušenosti."
   ]
  },
  {
   "cell_type": "code",
   "execution_count": 16,
   "metadata": {},
   "outputs": [
    {
     "name": "stdout",
     "output_type": "stream",
     "text": [
      "Síla testu (statistical power): 0.8805442798279285\n"
     ]
    }
   ],
   "source": [
    "# parametry pro výpočet síly testu\n",
    "effect_size = (retention_rate_30 - retention_rate_40) / group_30[\"retention_7\"].std()\n",
    "alpha = 0.05\n",
    "power = None\n",
    "ratio = len(group_40) / len(group_30)\n",
    "\n",
    "# inicializace objektu pro výpočet síly\n",
    "analysis = TTestIndPower()\n",
    "\n",
    "# výpočet síly testu\n",
    "power = analysis.solve_power(\n",
    "    effect_size=effect_size, nobs1=len(group_30), alpha=alpha, ratio=ratio\n",
    ")\n",
    "print(\"Síla testu (statistical power):\", power)"
   ]
  },
  {
   "cell_type": "markdown",
   "metadata": {},
   "source": [
    "Hodnota síly testu (statistical power) 0.8805442798279285 uvádí, že test má 88.05% pravděpodobnost správně zamítnout nulovou hypotézu (H0), když je nulová hypotéza skutečně nepravdivá. To znamená, že máte velmi dobrou šanci odhalit skutečný rozdíl, pokud takový rozdíl mezi skupinami skutečně existuje.\n",
    "\n",
    "V kontextu vašeho A/B testu mezi skupinou Gate 30 a Gate 40, kde jste zjistili statisticky významný rozdíl v míře retence po 7 dnech, tato vysoká statistická síla naznačuje, že test je velmi spolehlivý v detekci rozdílu mezi skupinami, a že výsledky, které jste dosáhli, jsou velmi pravděpodobně platné a nejsou výsledkem náhodné šance.\n",
    "\n",
    "### Význam této statistické síly:\n",
    "1. **Důvěryhodnost výsledků**: Vysoká statistická síla zvyšuje vaši důvěru ve výsledky A/B testování. Když reportujete tuto hodnotu spolu s dalšími statistickými zjištěními, poskytuje to užitečný kontext pro interpretaci účinnosti změn v designu, které byly testovány.\n",
    "   \n",
    "2. **Plánování dalších testů**: Informace o síle testu vám také může pomoci při plánování budoucích A/B testů. Vědění, že váš test má dostatečnou sílu, znamená, že můžete použít podobnou velikost vzorku pro budoucí testy na podobné efekty, aniž byste museli významně zvyšovat velikost vzorku.\n",
    "   \n",
    "3. **Riziko chyby druhého typu**: S hodnotou síly testu nad 80% jste také minimalizovali riziko chyby druhého typu (beta chyba), tj. pravděpodobnost, že test nezamítne nulovou hypotézu, když by měl. To znamená, že jste účinně snížili pravděpodobnost přehlédnutí skutečného efektu, pokud existuje.\n",
    "\n",
    "Vysoká statistická síla je důležitým faktorem při zajištění, že závěry vašeho A/B testu jsou robustní a že jakékoli rozhodnutí na základě těchto testů, například o implementaci nové funkce pro všechny uživatele, jsou dobře podložená."
   ]
  },
  {
   "cell_type": "markdown",
   "metadata": {},
   "source": [
    "### Závěry a možná vylepšení\n",
    "Na základě analýzy dat jsme zjistili statisticky významný rozdíl mezi skupinami. Pro budoucí A/B testování doporučujeme:\n",
    "- Zvýšení velikosti vzorku pro zlepšení statistické síly testu.\n",
    "- Prověření a optimalizaci segmentace uživatelů pro zajištění lepší rovnováhy mezi skupinami.\n",
    "- Použití logistické regrese pro hlubší analýzu vlivu různých proměnných."
   ]
  },
  {
   "cell_type": "markdown",
   "metadata": {},
   "source": []
  }
 ],
 "metadata": {
  "kernelspec": {
   "display_name": "Python 3",
   "language": "python",
   "name": "python3"
  },
  "language_info": {
   "codemirror_mode": {
    "name": "ipython",
    "version": 3
   },
   "file_extension": ".py",
   "mimetype": "text/x-python",
   "name": "python",
   "nbconvert_exporter": "python",
   "pygments_lexer": "ipython3",
   "version": "3.12.3"
  }
 },
 "nbformat": 4,
 "nbformat_minor": 2
}
